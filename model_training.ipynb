{
  "cells": [
    {
      "cell_type": "code",
      "execution_count": null,
      "metadata": {
        "id": "SS-hVIorlq0p"
      },
      "outputs": [],
      "source": [
        "!wget --quiet -O UTKFace.tar.gz \\\n",
        "    https://huggingface.co/datasets/py97/UTKFace-Cropped/resolve/main/UTKFace.tar.gz\n",
        "\n",
        "!mkdir -p UTKFace\n",
        "!tar --strip-components=1 -xzf UTKFace.tar.gz -C UTKFace\n"
      ]
    },
    {
      "cell_type": "code",
      "execution_count": 2,
      "metadata": {},
      "outputs": [
        {
          "name": "stderr",
          "output_type": "stream",
          "text": [
            "Downloading UTKFace dataset: 100%|██████████| 107M/107M [00:08<00:00, 12.8MB/s] \n",
            "C:\\Users\\lenovo\\AppData\\Local\\Temp\\ipykernel_14056\\651285805.py:24: DeprecationWarning: Python 3.14 will, by default, filter extracted tar archives and reject files or modify their metadata. Use the filter argument to control this behavior.\n",
            "  tar.extractall(path=\"UTKFace\")\n"
          ]
        },
        {
          "name": "stdout",
          "output_type": "stream",
          "text": [
            "Extracting dataset...\n",
            "Download and extraction complete!\n"
          ]
        }
      ],
      "source": [
        "import os\n",
        "import requests\n",
        "import tarfile\n",
        "from tqdm import tqdm\n",
        "\n",
        "# Create directory if it doesn't exist\n",
        "os.makedirs(\"UTKFace\", exist_ok=True)\n",
        "\n",
        "# Download the dataset\n",
        "url = \"https://huggingface.co/datasets/py97/UTKFace-Cropped/resolve/main/UTKFace.tar.gz\"\n",
        "response = requests.get(url, stream=True)\n",
        "total_size = int(response.headers.get('content-length', 0))\n",
        "\n",
        "# Download with progress bar\n",
        "with open(\"UTKFace.tar.gz\", \"wb\") as f:\n",
        "    with tqdm(total=total_size, unit='B', unit_scale=True, desc=\"Downloading UTKFace dataset\") as pbar:\n",
        "        for data in response.iter_content(chunk_size=4096):\n",
        "            f.write(data)\n",
        "            pbar.update(len(data))\n",
        "\n",
        "# Extract the dataset\n",
        "print(\"Extracting dataset...\")\n",
        "with tarfile.open(\"UTKFace.tar.gz\", \"r:gz\") as tar:\n",
        "    tar.extractall(path=\"UTKFace\")\n",
        "\n",
        "# Clean up the tar file\n",
        "os.remove(\"UTKFace.tar.gz\")\n",
        "print(\"Download and extraction complete!\")\n"
      ]
    },
    {
      "cell_type": "code",
      "execution_count": 11,
      "metadata": {
        "id": "YtZvFw2alqyF"
      },
      "outputs": [],
      "source": [
        "import os\n",
        "import random\n",
        "from glob import glob\n",
        "from typing import List, Optional\n",
        "\n",
        "import numpy as np\n",
        "from PIL import Image\n",
        "\n",
        "import torch\n",
        "import torch.nn as nn\n",
        "from torch.utils.data import Dataset, DataLoader\n",
        "from torchvision import models\n",
        "from torchvision.transforms import (\n",
        "    Compose, ToTensor, Resize, Normalize,\n",
        "    RandomHorizontalFlip, RandomRotation\n",
        ")\n",
        "from sklearn.metrics import accuracy_score, mean_absolute_error\n"
      ]
    },
    {
      "cell_type": "code",
      "execution_count": null,
      "metadata": {
        "colab": {
          "base_uri": "https://localhost:8080/"
        },
        "id": "9xUBShLylqvD",
        "outputId": "f0f7313d-5089-4d06-e813-845f291d6539"
      },
      "outputs": [],
      "source": [
        "# ===============================\n",
        "# 1. CONFIGURATION & HYPERPARAMS\n",
        "# ===============================\n",
        "\n",
        "DATA_DIR        = \"UTKFace/\"\n",
        "IMAGE_SIZE      = 224\n",
        "BATCH_SIZE      = 256\n",
        "NUM_EPOCHS      = 40\n",
        "LR              = 1e-4\n",
        "AGE_LOSS_WEIGHT = 0.01\n",
        "MAX_SAMPLES     = 20000  # limit total images\n",
        "VAL_SPLIT       = 0.15\n",
        "TEST_SPLIT      = 0.15\n",
        "SEED            = 42\n",
        "\n",
        "DEVICE = torch.device(\"cuda\" if torch.cuda.is_available() else \"cpu\")\n",
        "\n",
        "# reproducibility\n",
        "torch.manual_seed(SEED)\n",
        "np.random.seed(SEED)\n",
        "random.seed(SEED)\n",
        "\n",
        "print(f\"Using device: {DEVICE}\")\n"
      ]
    },
    {
      "cell_type": "code",
      "execution_count": 13,
      "metadata": {
        "id": "rktx8mpulpvp"
      },
      "outputs": [],
      "source": [
        "# ===========================\n",
        "# 2. UTKFace Utilities\n",
        "# ===========================\n",
        "\n",
        "def list_utkface_paths(\n",
        "    image_dir: str,\n",
        "    max_samples: Optional[int] = None,\n",
        "    seed: Optional[int] = None\n",
        ") -> List[str]:\n",
        "    \"\"\"\n",
        "    Gather all valid UTKFace image paths, shuffle once, and optionally limit.\n",
        "    \"\"\"\n",
        "    all_paths = glob(os.path.join(image_dir, \"*.jpg\"))\n",
        "    valid_paths = []\n",
        "    for p in all_paths:\n",
        "        fn = os.path.basename(p)\n",
        "        parts = fn.split(\"_\")\n",
        "        if len(parts) >= 4:\n",
        "            try:\n",
        "                age = int(parts[0])\n",
        "                gender = int(parts[1])\n",
        "                if 0 <= age <= 116 and gender in (0, 1):\n",
        "                    valid_paths.append(p)\n",
        "            except ValueError:\n",
        "                continue\n",
        "\n",
        "    if seed is not None:\n",
        "        random.Random(seed).shuffle(valid_paths)\n",
        "    else:\n",
        "        random.shuffle(valid_paths)\n",
        "\n",
        "    if max_samples is not None and len(valid_paths) > max_samples:\n",
        "        valid_paths = valid_paths[:max_samples]\n",
        "\n",
        "    print(f\"Found {len(valid_paths)} valid UTKFace images\")\n",
        "    return valid_paths\n",
        "\n",
        "\n",
        "class UTKFaceDataset(Dataset):\n",
        "    \"\"\"\n",
        "    UTKFace Dataset: returns a dict with:\n",
        "      - 'images': Tensor[C,H,W]\n",
        "      - 'age':   float32\n",
        "      - 'gender': int64\n",
        "    \"\"\"\n",
        "    def __init__(self, paths: List[str], transform: Optional[Compose] = None):\n",
        "        self.paths = paths\n",
        "        self.transform = transform\n",
        "\n",
        "        # Always apply resize → tensor → normalize\n",
        "        self.normalize = Compose([\n",
        "            Resize((IMAGE_SIZE, IMAGE_SIZE)),\n",
        "            ToTensor(),\n",
        "            Normalize(mean=[0.485, 0.456, 0.406],\n",
        "                      std=[0.229, 0.224, 0.225]),\n",
        "        ])\n",
        "\n",
        "    def __len__(self):\n",
        "        return len(self.paths)\n",
        "\n",
        "    def __getitem__(self, idx):\n",
        "        path = self.paths[idx]\n",
        "        img = Image.open(path).convert(\"RGB\")\n",
        "\n",
        "        fn = os.path.basename(path)\n",
        "        age = float(fn.split(\"_\")[0])\n",
        "        gender = int(fn.split(\"_\")[1])\n",
        "\n",
        "        if self.transform:\n",
        "            img = self.transform(img)\n",
        "        img = self.normalize(img)\n",
        "\n",
        "        return {\n",
        "            \"images\": img,\n",
        "            \"age\": torch.tensor(age, dtype=torch.float32),\n",
        "            \"gender\": torch.tensor(gender, dtype=torch.long)\n",
        "        }\n"
      ]
    },
    {
      "cell_type": "code",
      "execution_count": 14,
      "metadata": {
        "id": "b5BHp28Tqq3e"
      },
      "outputs": [],
      "source": [
        "# ==============================\n",
        "# 3. Multi-Task ResNet Model\n",
        "# ==============================\n",
        "\n",
        "class MultiTaskResNet(nn.Module):\n",
        "    def __init__(self):\n",
        "        super().__init__()\n",
        "        # Load pretrained ResNet-18 and strip off its final layer\n",
        "        backbone = models.resnet18(pretrained=True)\n",
        "        self.feature_extractor = nn.Sequential(*list(backbone.children())[:-1])\n",
        "        hidden = backbone.fc.in_features  # should be 512\n",
        "\n",
        "        # Gender head: 2-way classification\n",
        "        self.gender_head = nn.Sequential(\n",
        "            nn.Linear(hidden, hidden // 4),\n",
        "            nn.ReLU(),\n",
        "            nn.Dropout(0.3),\n",
        "            nn.Linear(hidden // 4, 2)\n",
        "        )\n",
        "\n",
        "        # Age head: single-output regression\n",
        "        self.age_head = nn.Sequential(\n",
        "            nn.Linear(hidden, hidden // 4),\n",
        "            nn.ReLU(),\n",
        "            nn.Dropout(0.3),\n",
        "            nn.Linear(hidden // 4, 1)\n",
        "        )\n",
        "\n",
        "        self.ce_loss = nn.CrossEntropyLoss()\n",
        "        self.mse_loss = nn.MSELoss()\n",
        "\n",
        "    def forward(self, x, gender_labels=None, age_labels=None):\n",
        "        # x: [B, 3, H, W]\n",
        "        feats = self.feature_extractor(x)        # [B, 512, 1, 1]\n",
        "        feats = feats.view(feats.size(0), -1)    # [B, 512]\n",
        "\n",
        "        gender_logits = self.gender_head(feats)  # [B, 2]\n",
        "        age_pred = self.age_head(feats).squeeze(-1)  # [B]\n",
        "\n",
        "        losses = {}\n",
        "        if gender_labels is not None and age_labels is not None:\n",
        "            g_loss = self.ce_loss(gender_logits, gender_labels)\n",
        "            a_loss = self.mse_loss(age_pred, age_labels)\n",
        "            losses[\"gender_loss\"] = g_loss\n",
        "            losses[\"age_loss\"]   = a_loss\n",
        "            losses[\"loss\"]       = g_loss + AGE_LOSS_WEIGHT * a_loss\n",
        "\n",
        "        return gender_logits, age_pred, losses\n"
      ]
    },
    {
      "cell_type": "code",
      "execution_count": 15,
      "metadata": {
        "id": "mlq97qxdqq1O"
      },
      "outputs": [],
      "source": [
        "# ======================\n",
        "# 4. Training / Eval\n",
        "# ======================\n",
        "\n",
        "def train_one_epoch(model, loader, optimizer):\n",
        "    model.train()\n",
        "    running_loss = 0.0\n",
        "    for batch in loader:\n",
        "        imgs   = batch[\"images\"].to(DEVICE)\n",
        "        genders= batch[\"gender\"].to(DEVICE)\n",
        "        ages   = batch[\"age\"].to(DEVICE)\n",
        "\n",
        "        optimizer.zero_grad()\n",
        "        _, _, losses = model(imgs, genders, ages)\n",
        "        loss = losses[\"loss\"]\n",
        "        loss.backward()\n",
        "        optimizer.step()\n",
        "\n",
        "        running_loss += loss.item()\n",
        "\n",
        "    return running_loss / len(loader)\n",
        "\n",
        "\n",
        "def evaluate(model, loader):\n",
        "    model.eval()\n",
        "    all_g_true, all_g_pred = [], []\n",
        "    all_a_true, all_a_pred = [], []\n",
        "\n",
        "    with torch.no_grad():\n",
        "        for batch in loader:\n",
        "            imgs   = batch[\"images\"].to(DEVICE)\n",
        "            genders= batch[\"gender\"].to(DEVICE)\n",
        "            ages   = batch[\"age\"].to(DEVICE)\n",
        "\n",
        "            g_logits, a_pred, _ = model(imgs)\n",
        "            g_preds = g_logits.argmax(dim=1)\n",
        "\n",
        "            all_g_true.extend(genders.cpu().tolist())\n",
        "            all_g_pred.extend(g_preds.cpu().tolist())\n",
        "            all_a_true.extend(ages.cpu().tolist())\n",
        "            all_a_pred.extend(a_pred.cpu().tolist())\n",
        "\n",
        "    gender_acc = accuracy_score(all_g_true, all_g_pred)\n",
        "    age_mae    = mean_absolute_error(all_a_true, all_a_pred)\n",
        "    return gender_acc, age_mae\n"
      ]
    },
    {
      "cell_type": "code",
      "execution_count": 16,
      "metadata": {
        "id": "yeXdzSMVqqy1"
      },
      "outputs": [],
      "source": [
        "# ======================\n",
        "# 5. Main\n",
        "# ======================\n",
        "\n",
        "def main():\n",
        "    # 1. Gather & split paths\n",
        "    paths = list_utkface_paths(DATA_DIR, max_samples=MAX_SAMPLES, seed=SEED)\n",
        "    n_total = len(paths)\n",
        "    n_test  = int(TEST_SPLIT  * n_total)\n",
        "    n_val   = int(VAL_SPLIT   * n_total)\n",
        "    n_train = n_total - n_val - n_test\n",
        "\n",
        "    train_paths = paths[:n_train]\n",
        "    val_paths   = paths[n_train:n_train+n_val]\n",
        "    test_paths  = paths[n_train+n_val:]\n",
        "\n",
        "    print(f\"Split → train: {len(train_paths)}, val: {len(val_paths)}, test: {len(test_paths)}\")\n",
        "\n",
        "    # 2. Transforms & Datasets\n",
        "    train_transform = Compose([\n",
        "        RandomHorizontalFlip(0.5),\n",
        "        RandomRotation(10),\n",
        "    ])\n",
        "    train_ds = UTKFaceDataset(train_paths, transform=train_transform)\n",
        "    val_ds   = UTKFaceDataset(val_paths,   transform=None)\n",
        "    test_ds  = UTKFaceDataset(test_paths,  transform=None)\n",
        "\n",
        "    train_loader = DataLoader(train_ds, batch_size=BATCH_SIZE, shuffle=True,  drop_last=True)\n",
        "    val_loader   = DataLoader(val_ds,   batch_size=BATCH_SIZE, shuffle=False)\n",
        "    test_loader  = DataLoader(test_ds,  batch_size=BATCH_SIZE, shuffle=False)\n",
        "\n",
        "    # 3. Model, optimizer, scheduler\n",
        "    model     = MultiTaskResNet().to(DEVICE)\n",
        "    optimizer = torch.optim.AdamW(model.parameters(), lr=LR, weight_decay=1e-2)\n",
        "    scheduler = torch.optim.lr_scheduler.StepLR(optimizer, step_size=7, gamma=0.1)\n",
        "\n",
        "    best_acc = 0.0\n",
        "    for epoch in range(1, NUM_EPOCHS+1):\n",
        "        train_loss = train_one_epoch(model, train_loader, optimizer)\n",
        "        val_acc, val_mae = evaluate(model, val_loader)\n",
        "        scheduler.step()\n",
        "\n",
        "        print(f\"Epoch {epoch:2d} | \"\n",
        "              f\"Train Loss: {train_loss:.4f} | \"\n",
        "              f\"Val Gender Acc: {val_acc*100:5.2f}% | \"\n",
        "              f\"Val Age MAE: {val_mae:5.2f}\")\n",
        "\n",
        "        # checkpoint\n",
        "        if val_acc > best_acc:\n",
        "            best_acc = val_acc\n",
        "            torch.save(model.state_dict(), \"best_utkface_resnet.pt\")\n",
        "            print(\"  → New best model saved.\")\n",
        "\n",
        "    # 4. Final test\n",
        "    model.load_state_dict(torch.load(\"best_utkface_resnet.pt\", map_location=DEVICE))\n",
        "    test_acc, test_mae = evaluate(model, test_loader)\n",
        "    print(f\"\\n*** FINAL TEST → Gender Acc: {test_acc*100:.2f}% | Age MAE: {test_mae:.2f} yrs ***\")\n"
      ]
    },
    {
      "cell_type": "code",
      "execution_count": null,
      "metadata": {
        "colab": {
          "base_uri": "https://localhost:8080/"
        },
        "id": "rpI2OR2ylrYV",
        "outputId": "59a57ad5-11f4-40ab-883f-1366b16afe2a"
      },
      "outputs": [],
      "source": [
        "main()"
      ]
    },
    {
      "cell_type": "code",
      "execution_count": null,
      "metadata": {
        "id": "snmhERSclrTz"
      },
      "outputs": [],
      "source": []
    },
    {
      "cell_type": "code",
      "execution_count": null,
      "metadata": {
        "id": "lK4yZ4dslrRu"
      },
      "outputs": [],
      "source": []
    },
    {
      "cell_type": "code",
      "execution_count": null,
      "metadata": {
        "id": "cnlW5QDAlrPd"
      },
      "outputs": [],
      "source": []
    },
    {
      "cell_type": "code",
      "execution_count": null,
      "metadata": {
        "id": "29HYeDJ2lrNG"
      },
      "outputs": [],
      "source": []
    },
    {
      "cell_type": "code",
      "execution_count": null,
      "metadata": {
        "id": "lfmlIFj-lrK1"
      },
      "outputs": [],
      "source": []
    }
  ],
  "metadata": {
    "accelerator": "GPU",
    "colab": {
      "gpuType": "T4",
      "provenance": []
    },
    "kernelspec": {
      "display_name": "Python 3",
      "name": "python3"
    },
    "language_info": {
      "codemirror_mode": {
        "name": "ipython",
        "version": 3
      },
      "file_extension": ".py",
      "mimetype": "text/x-python",
      "name": "python",
      "nbconvert_exporter": "python",
      "pygments_lexer": "ipython3",
      "version": "3.12.9"
    }
  },
  "nbformat": 4,
  "nbformat_minor": 0
}
